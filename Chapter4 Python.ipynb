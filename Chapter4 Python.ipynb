{
 "cells": [
  {
   "cell_type": "code",
   "execution_count": 1,
   "metadata": {},
   "outputs": [
    {
     "name": "stdout",
     "output_type": "stream",
     "text": [
      "Olla!\n",
      "Annyeonghaseyo!\n"
     ]
    }
   ],
   "source": [
    "#Define a function called sayGreetings, and the function prints \"Olla!\"\n",
    "def sayGreetings():\n",
    "    print(\"Olla!\")\n",
    "\n",
    "#Define a second function called sayGreetings2, and the function prints \"Annyeonghaseyo!\"\n",
    "def sayGreetings2():\n",
    "    print(\"Annyeonghaseyo!\")\n",
    "\n",
    "#Call functions\n",
    "sayGreetings()\n",
    "sayGreetings2()"
   ]
  },
  {
   "cell_type": "code",
   "execution_count": 2,
   "metadata": {},
   "outputs": [
    {
     "name": "stdout",
     "output_type": "stream",
     "text": [
      "40\n",
      "5.0\n"
     ]
    }
   ],
   "source": [
    "#define function for multiplication and division\n",
    "\n",
    "def multiply(num1,num2):\n",
    "    print(num1*num2)\n",
    "\n",
    "def divide(num1,num2):\n",
    "    print(num1/num2)\n",
    "\n",
    "multiply(5,8)\n",
    "divide(50,10)"
   ]
  },
  {
   "cell_type": "code",
   "execution_count": 3,
   "metadata": {},
   "outputs": [
    {
     "name": "stdout",
     "output_type": "stream",
     "text": [
      "Sorry, I will not do it again.\n",
      "Sorry, I will not do it again.\n",
      "Sorry, I will not do it again.\n",
      "Sorry, I will not do it again.\n",
      "Sorry, I will not do it again.\n",
      "Sorry, I will not do it again.\n",
      "Sorry, I will not do it again.\n",
      "Sorry, I will not do it again.\n",
      "Sorry, I will not do it again.\n",
      "Sorry, I will not do it again.\n"
     ]
    }
   ],
   "source": [
    "#Design your own, \"Sorry...\" loop by referring the samples above.\n",
    "def sorry(customMessage):\n",
    "    print(customMessage)\n",
    "    \n",
    "def loop(count,customMessage):\n",
    "    for x in range(0,count):\n",
    "        sorry(customMessage)\n",
    "    \n",
    "loop(10,\"Sorry, I will not do it again.\") "
   ]
  },
  {
   "cell_type": "code",
   "execution_count": 15,
   "metadata": {},
   "outputs": [
    {
     "name": "stdout",
     "output_type": "stream",
     "text": [
      "1 . Sorry, I will not do it again.\n",
      "2 . Sorry, I will not do it again.\n",
      "3 . Sorry, I will not do it again.\n",
      "4 . Sorry, I will not do it again.\n",
      "5 . Sorry, I will not do it again.\n",
      "6 . Sorry, I will not do it again.\n",
      "7 . Sorry, I will not do it again.\n",
      "8 . Sorry, I will not do it again.\n",
      "9 . Sorry, I will not do it again.\n",
      "10 . Sorry, I will not do it again.\n",
      "11 . Sorry, I will not do it again.\n",
      "12 . Sorry, I will not do it again.\n",
      "13 . Sorry, I will not do it again.\n",
      "14 . Sorry, I will not do it again.\n",
      "15 . Sorry, I will not do it again.\n",
      "16 . Sorry, I will not do it again.\n",
      "17 . Sorry, I will not do it again.\n",
      "18 . Sorry, I will not do it again.\n",
      "19 . Sorry, I will not do it again.\n",
      "20 . Sorry, I will not do it again.\n",
      "21 . Sorry, I will not do it again.\n",
      "22 . Sorry, I will not do it again.\n",
      "23 . Sorry, I will not do it again.\n",
      "24 . Sorry, I will not do it again.\n",
      "25 . Sorry, I will not do it again.\n",
      "26 . Sorry, I will not do it again.\n",
      "27 . Sorry, I will not do it again.\n",
      "28 . Sorry, I will not do it again.\n",
      "29 . Sorry, I will not do it again.\n",
      "30 . Sorry, I will not do it again.\n",
      "31 . Sorry, I will not do it again.\n",
      "32 . Sorry, I will not do it again.\n",
      "33 . Sorry, I will not do it again.\n",
      "34 . Sorry, I will not do it again.\n",
      "35 . Sorry, I will not do it again.\n",
      "36 . Sorry, I will not do it again.\n",
      "37 . Sorry, I will not do it again.\n",
      "38 . Sorry, I will not do it again.\n",
      "39 . Sorry, I will not do it again.\n",
      "40 . Sorry, I will not do it again.\n",
      "41 . Sorry, I will not do it again.\n",
      "42 . Sorry, I will not do it again.\n",
      "43 . Sorry, I will not do it again.\n",
      "44 . Sorry, I will not do it again.\n",
      "45 . Sorry, I will not do it again.\n",
      "46 . Sorry, I will not do it again.\n",
      "47 . Sorry, I will not do it again.\n",
      "48 . Sorry, I will not do it again.\n",
      "49 . Sorry, I will not do it again.\n",
      "50 . Sorry, I will not do it again.\n",
      "51 . Sorry, I will not do it again.\n",
      "52 . Sorry, I will not do it again.\n",
      "53 . Sorry, I will not do it again.\n",
      "54 . Sorry, I will not do it again.\n",
      "55 . Sorry, I will not do it again.\n",
      "56 . Sorry, I will not do it again.\n",
      "57 . Sorry, I will not do it again.\n",
      "58 . Sorry, I will not do it again.\n",
      "59 . Sorry, I will not do it again.\n",
      "60 . Sorry, I will not do it again.\n",
      "61 . Sorry, I will not do it again.\n",
      "62 . Sorry, I will not do it again.\n",
      "63 . Sorry, I will not do it again.\n",
      "64 . Sorry, I will not do it again.\n",
      "65 . Sorry, I will not do it again.\n",
      "66 . Sorry, I will not do it again.\n",
      "67 . Sorry, I will not do it again.\n",
      "68 . Sorry, I will not do it again.\n",
      "69 . Sorry, I will not do it again.\n",
      "70 . Sorry, I will not do it again.\n",
      "71 . Sorry, I will not do it again.\n",
      "72 . Sorry, I will not do it again.\n",
      "73 . Sorry, I will not do it again.\n",
      "74 . Sorry, I will not do it again.\n",
      "75 . Sorry, I will not do it again.\n",
      "76 . Sorry, I will not do it again.\n",
      "77 . Sorry, I will not do it again.\n",
      "78 . Sorry, I will not do it again.\n",
      "79 . Sorry, I will not do it again.\n",
      "80 . Sorry, I will not do it again.\n",
      "81 . Sorry, I will not do it again.\n",
      "82 . Sorry, I will not do it again.\n",
      "83 . Sorry, I will not do it again.\n",
      "84 . Sorry, I will not do it again.\n",
      "85 . Sorry, I will not do it again.\n",
      "86 . Sorry, I will not do it again.\n",
      "87 . Sorry, I will not do it again.\n",
      "88 . Sorry, I will not do it again.\n",
      "89 . Sorry, I will not do it again.\n",
      "90 . Sorry, I will not do it again.\n",
      "91 . Sorry, I will not do it again.\n",
      "92 . Sorry, I will not do it again.\n",
      "93 . Sorry, I will not do it again.\n",
      "94 . Sorry, I will not do it again.\n",
      "95 . Sorry, I will not do it again.\n",
      "96 . Sorry, I will not do it again.\n",
      "97 . Sorry, I will not do it again.\n",
      "98 . Sorry, I will not do it again.\n",
      "99 . Sorry, I will not do it again.\n",
      "100 . Sorry, I will not do it again.\n"
     ]
    }
   ],
   "source": [
    "#Design the code so that the output is as follows. (Code must make use of functions)\n",
    "\n",
    "def sorry(number,customMessage):\n",
    "    print(number,\".\",customMessage)\n",
    "    \n",
    "def loop(count,customMessage):\n",
    "    for x in range(0,count):\n",
    "        sorry(x+1,customMessage)\n",
    "        \n",
    "loop(100,\"Sorry, I will not do it again.\") "
   ]
  },
  {
   "cell_type": "code",
   "execution_count": 19,
   "metadata": {},
   "outputs": [
    {
     "name": "stdout",
     "output_type": "stream",
     "text": [
      "First Number : 5\n",
      "Second Number : 6\n",
      "Total :  5 X 6 = 30\n"
     ]
    }
   ],
   "source": [
    "def darab(num1,num2):\n",
    "    print(\"First Number :\" , num1 ) #notice instead of + num1 we used , Why?\n",
    "    print(\"Second Number :\" , num2 )\n",
    "    print(\"Total : \",num1,\"X\",num2,\"=\",num1*num2)\n",
    "\n",
    "darab(5,6)"
   ]
  },
  {
   "cell_type": "code",
   "execution_count": 20,
   "metadata": {},
   "outputs": [
    {
     "name": "stdout",
     "output_type": "stream",
     "text": [
      "haihello\n"
     ]
    }
   ],
   "source": [
    "x=\"hai\"\n",
    "y=\"hello\"\n",
    "print(x+y)"
   ]
  },
  {
   "cell_type": "code",
   "execution_count": null,
   "metadata": {
    "collapsed": true
   },
   "outputs": [],
   "source": []
  }
 ],
 "metadata": {
  "kernelspec": {
   "display_name": "Python 3",
   "language": "python",
   "name": "python3"
  },
  "language_info": {
   "codemirror_mode": {
    "name": "ipython",
    "version": 3
   },
   "file_extension": ".py",
   "mimetype": "text/x-python",
   "name": "python",
   "nbconvert_exporter": "python",
   "pygments_lexer": "ipython3",
   "version": "3.6.1"
  }
 },
 "nbformat": 4,
 "nbformat_minor": 2
}
